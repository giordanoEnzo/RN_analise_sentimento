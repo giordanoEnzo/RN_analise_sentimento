{
 "cells": [
  {
   "cell_type": "code",
   "outputs": [],
   "source": [
    "import numpy as np\n",
    "from sklearn.feature_extraction.text import CountVectorizer"
   ],
   "metadata": {
    "collapsed": false,
    "ExecuteTime": {
     "end_time": "2024-07-17T02:24:53.078119Z",
     "start_time": "2024-07-17T02:24:53.054261Z"
    }
   },
   "id": "69af94b30f8a0762",
   "execution_count": 531
  },
  {
   "cell_type": "code",
   "outputs": [],
   "source": [
    "frases = [\"Cacá já mandou 3 gol contra, chega uma hora que não é mais azar, é cabacisse mesmo\",\n",
    "          \"Caca tem que começar a ser punido por isso plmrddeus como é que pode\",\n",
    "          \"Eu nunca vi um zagueiro fazer tanto gol contra bicho\",\n",
    "          \"PÉSSIMO... EU TO CANSADO\",\n",
    "          \"GRANDE HUGO KKKKKKKKKKKKKKKK\",\n",
    "          \"Já pode fechar as portas porque esse time está fadado ao fracasso.\",\n",
    "          \"TAVA DEMORANDO MSM KKKKKKKKKKKKLKKKKKKKKKK INÚTEIS\",\n",
    "          \"o que ta acontecendo com meu time mds\",\n",
    "          \"nao conseguimos passar do meio campo contra o CRICIUMA\",\n",
    "          \"ainda pensei em apostar no timão\"]"
   ],
   "metadata": {
    "collapsed": false,
    "ExecuteTime": {
     "end_time": "2024-07-17T02:24:53.079844Z",
     "start_time": "2024-07-17T02:24:53.071393Z"
    }
   },
   "id": "290b2973afc953f4",
   "execution_count": 532
  },
  {
   "cell_type": "code",
   "outputs": [],
   "source": [
    "vectorizer = CountVectorizer()"
   ],
   "metadata": {
    "collapsed": false,
    "ExecuteTime": {
     "end_time": "2024-07-17T02:24:53.091792Z",
     "start_time": "2024-07-17T02:24:53.084459Z"
    }
   },
   "id": "592d3225b42c733c",
   "execution_count": 533
  },
  {
   "cell_type": "code",
   "outputs": [],
   "source": [
    "bow = vectorizer.fit_transform(frases)\n",
    "vocabulario = vectorizer.get_feature_names_out()"
   ],
   "metadata": {
    "collapsed": false,
    "ExecuteTime": {
     "end_time": "2024-07-17T02:24:53.105488Z",
     "start_time": "2024-07-17T02:24:53.091551Z"
    }
   },
   "id": "877e8a6d9c9ccc98",
   "execution_count": 534
  },
  {
   "cell_type": "code",
   "outputs": [],
   "source": [
    "vetores_bag = bow.toarray()"
   ],
   "metadata": {
    "collapsed": false,
    "ExecuteTime": {
     "end_time": "2024-07-17T02:24:53.106433Z",
     "start_time": "2024-07-17T02:24:53.096830Z"
    }
   },
   "id": "760cb2ea8da39bb0",
   "execution_count": 535
  },
  {
   "cell_type": "markdown",
   "source": [
    "Aplicação da rede neural c/ backpropagation"
   ],
   "metadata": {
    "collapsed": false
   },
   "id": "bdabf49c74bd227a"
  },
  {
   "cell_type": "code",
   "outputs": [],
   "source": [
    "entradas = np.array(vetores_bag)\n",
    "saidas = np.array([[1, 0, 0],\n",
    "                   [1, 0, 0],\n",
    "                   [0, 1, 0],\n",
    "                   [1, 0, 0],\n",
    "                   [0, 1, 0],\n",
    "                   [1, 0, 0],\n",
    "                   [1, 0, 0],\n",
    "                   [0, 1, 0],\n",
    "                   [0, 1, 0],\n",
    "                   [0, 1, 0]])"
   ],
   "metadata": {
    "collapsed": false,
    "ExecuteTime": {
     "end_time": "2024-07-17T02:24:53.106883Z",
     "start_time": "2024-07-17T02:24:53.101210Z"
    }
   },
   "id": "95450d47a3ed051",
   "execution_count": 536
  },
  {
   "cell_type": "code",
   "outputs": [],
   "source": [
    "entradas_size = entradas.shape[1]\n",
    "camada_oculta_size = 37\n",
    "saidas_sizes = saidas.shape[1]\n",
    "taxa_aprendizado = 0.01\n",
    "epocas = 1000000"
   ],
   "metadata": {
    "collapsed": false,
    "ExecuteTime": {
     "end_time": "2024-07-17T02:24:53.123010Z",
     "start_time": "2024-07-17T02:24:53.110065Z"
    }
   },
   "id": "7d48b964aeb5803e",
   "execution_count": 537
  },
  {
   "cell_type": "code",
   "outputs": [],
   "source": [
    "w_entrada_oculta = np.random.uniform(-1, 1, (entradas_size, camada_oculta_size))\n",
    "b_camada_oculta = np.random.uniform(-1, 1, camada_oculta_size)\n",
    "w_oculta_saida = np.random.uniform(-1, 1, (camada_oculta_size, saidas_sizes))\n",
    "b_saida = np.random.uniform(-1, 1, saidas_sizes)"
   ],
   "metadata": {
    "collapsed": false,
    "ExecuteTime": {
     "end_time": "2024-07-17T02:24:53.123611Z",
     "start_time": "2024-07-17T02:24:53.114015Z"
    }
   },
   "id": "3771b83cafee342c",
   "execution_count": 538
  },
  {
   "cell_type": "code",
   "outputs": [],
   "source": [
    "def relu(z):\n",
    "    return np.maximum(0, z)"
   ],
   "metadata": {
    "collapsed": false,
    "ExecuteTime": {
     "end_time": "2024-07-17T02:24:53.138261Z",
     "start_time": "2024-07-17T02:24:53.116493Z"
    }
   },
   "id": "ee27c9102a070cfa",
   "execution_count": 539
  },
  {
   "cell_type": "code",
   "outputs": [],
   "source": [
    "def relu_derivative(z):\n",
    "    return np.where(z > 0, 1, 0)"
   ],
   "metadata": {
    "collapsed": false,
    "ExecuteTime": {
     "end_time": "2024-07-17T02:24:53.141128Z",
     "start_time": "2024-07-17T02:24:53.125364Z"
    }
   },
   "id": "66aae7af2f842596",
   "execution_count": 540
  },
  {
   "cell_type": "code",
   "outputs": [],
   "source": [
    "def softmax(z):\n",
    "    if z.ndim > 1:\n",
    "        e_z = np.exp(z - np.max(z, axis=1, keepdims=True))\n",
    "        return e_z / np.sum(e_z, axis=1, keepdims=True)\n",
    "    else:\n",
    "        e_z = np.exp(z - np.max(z))\n",
    "        return e_z / np.sum(e_z)"
   ],
   "metadata": {
    "collapsed": false,
    "ExecuteTime": {
     "end_time": "2024-07-17T02:24:53.152650Z",
     "start_time": "2024-07-17T02:24:53.143927Z"
    }
   },
   "id": "4a55361e3584f12",
   "execution_count": 541
  },
  {
   "cell_type": "code",
   "outputs": [
    {
     "name": "stdout",
     "output_type": "stream",
     "text": [
      "Época 0, Erro médio: 0.25295471693877275\n",
      "Época 100000, Erro médio: 1.3348990974681163e-11\n",
      "Época 200000, Erro médio: 2.929556759151672e-12\n",
      "Época 300000, Erro médio: 1.2111770153261613e-12\n",
      "Época 400000, Erro médio: 6.476840869565373e-13\n",
      "Época 500000, Erro médio: 3.979856786376197e-13\n",
      "Época 600000, Erro médio: 2.6797813362592613e-13\n",
      "Época 700000, Erro médio: 1.9200404613408258e-13\n",
      "Época 800000, Erro médio: 1.439168600652104e-13\n",
      "Época 900000, Erro médio: 1.1163714436136855e-13\n"
     ]
    }
   ],
   "source": [
    "for epoca in range(epocas):\n",
    "    for i in range(len(entradas)):\n",
    "        \n",
    "        z_oculta = np.dot(entradas[i], w_entrada_oculta) + b_camada_oculta\n",
    "        a_oculta = relu(z_oculta)\n",
    "        z_saida = np.dot(a_oculta, w_oculta_saida) + b_saida\n",
    "        a_saida = softmax(z_saida)\n",
    "        \n",
    "        erro_saida = saidas[i] - a_saida\n",
    "        \n",
    "        delta_saida = erro_saida\n",
    "        gradiente_w_oculta_saida = np.outer(a_oculta, delta_saida)\n",
    "        gradiente_b_saida = delta_saida\n",
    "        delta_oculta = np.dot(delta_saida, w_oculta_saida.T) * relu_derivative(z_oculta)\n",
    "        gradiente_w_entrada_oculta = np.outer(entradas[i], delta_oculta)\n",
    "        gradiente_b_oculta = delta_oculta\n",
    "        \n",
    "        w_oculta_saida += taxa_aprendizado * gradiente_w_oculta_saida\n",
    "        b_saida += taxa_aprendizado * gradiente_b_saida\n",
    "        w_entrada_oculta += taxa_aprendizado * gradiente_w_entrada_oculta\n",
    "        b_camada_oculta += taxa_aprendizado * gradiente_b_oculta\n",
    "        \n",
    "    if epoca % 100000 == 0:\n",
    "        erro_medio = np.mean(np.square(erro_saida))\n",
    "        print(f'Época {epoca}, Erro médio: {erro_medio}')"
   ],
   "metadata": {
    "collapsed": false,
    "ExecuteTime": {
     "end_time": "2024-07-17T02:28:28.068963Z",
     "start_time": "2024-07-17T02:24:53.148748Z"
    }
   },
   "id": "e80a20b29b6d3ec2",
   "execution_count": 542
  },
  {
   "cell_type": "code",
   "outputs": [],
   "source": [
    "def interpretar_saida(resultado_bin):\n",
    "    if resultado_bin[0] == 1:\n",
    "        return 'Negativo'\n",
    "    elif resultado_bin[1] == 1:\n",
    "        return 'Neutro'\n",
    "    elif resultado_bin[2] == 1:\n",
    "        return 'Positivo'\n",
    "    else:\n",
    "        return 'Indefinido'"
   ],
   "metadata": {
    "collapsed": false,
    "ExecuteTime": {
     "end_time": "2024-07-17T02:28:28.073476Z",
     "start_time": "2024-07-17T02:28:28.063268Z"
    }
   },
   "id": "dee0e65ee7827fcf",
   "execution_count": 543
  },
  {
   "cell_type": "code",
   "outputs": [
    {
     "name": "stdout",
     "output_type": "stream",
     "text": [
      "Tweet: \"Cacá já mandou 3 gol contra, chega uma hora que não é mais azar, é cabacisse mesmo\"\n",
      "Saída Esperada: [1 0 0], Resultado: [1 0 0] (Negativo)\n",
      "---\n",
      "Tweet: \"Caca tem que começar a ser punido por isso plmrddeus como é que pode\"\n",
      "Saída Esperada: [1 0 0], Resultado: [1 0 0] (Negativo)\n",
      "---\n",
      "Tweet: \"Eu nunca vi um zagueiro fazer tanto gol contra bicho\"\n",
      "Saída Esperada: [0 1 0], Resultado: [0 1 0] (Neutro)\n",
      "---\n",
      "Tweet: \"PÉSSIMO... EU TO CANSADO\"\n",
      "Saída Esperada: [1 0 0], Resultado: [1 0 0] (Negativo)\n",
      "---\n",
      "Tweet: \"GRANDE HUGO KKKKKKKKKKKKKKKK\"\n",
      "Saída Esperada: [0 1 0], Resultado: [0 1 0] (Neutro)\n",
      "---\n",
      "Tweet: \"Já pode fechar as portas porque esse time está fadado ao fracasso.\"\n",
      "Saída Esperada: [1 0 0], Resultado: [1 0 0] (Negativo)\n",
      "---\n",
      "Tweet: \"TAVA DEMORANDO MSM KKKKKKKKKKKKLKKKKKKKKKK INÚTEIS\"\n",
      "Saída Esperada: [1 0 0], Resultado: [1 0 0] (Negativo)\n",
      "---\n",
      "Tweet: \"o que ta acontecendo com meu time mds\"\n",
      "Saída Esperada: [0 1 0], Resultado: [0 1 0] (Neutro)\n",
      "---\n",
      "Tweet: \"nao conseguimos passar do meio campo contra o CRICIUMA\"\n",
      "Saída Esperada: [0 1 0], Resultado: [0 1 0] (Neutro)\n",
      "---\n",
      "Tweet: \"ainda pensei em apostar no timão\"\n",
      "Saída Esperada: [0 1 0], Resultado: [0 1 0] (Neutro)\n",
      "---\n"
     ]
    }
   ],
   "source": [
    "for j in range(len(entradas)):\n",
    "    z_oculta = np.dot(entradas[j], w_entrada_oculta) + b_camada_oculta\n",
    "    a_oculta = relu(z_oculta)\n",
    "    z_saida = np.dot(a_oculta, w_oculta_saida) + b_saida\n",
    "    a_saida = softmax(z_saida.reshape(1, -1))\n",
    "    \n",
    "    resultado_bin = np.round(a_saida).astype(int)[0]\n",
    "    \n",
    "    interpretacao = interpretar_saida(resultado_bin)\n",
    "    \n",
    "    print(f'Tweet: \"{frases[j]}\"')\n",
    "    print(f'Saída Esperada: {saidas[j]}, Resultado: {resultado_bin} ({interpretacao})')"
   ],
   "metadata": {
    "collapsed": false,
    "ExecuteTime": {
     "end_time": "2024-07-17T02:28:28.075680Z",
     "start_time": "2024-07-17T02:28:28.069558Z"
    }
   },
   "id": "c8e60cbbfa2d502d",
   "execution_count": 544
  },
  {
   "cell_type": "code",
   "outputs": [
    {
     "name": "stdout",
     "output_type": "stream",
     "text": [
      "--- Pesos finais ---\n",
      "Pesos da camada de entrada para oculta:\n",
      "[[-0.56600252 -0.8002499   0.93609546 ... -0.90612169  0.47138263\n",
      "   0.62404762]\n",
      " [ 0.5635168  -0.55056342  0.80765878 ...  0.42305976  0.58774569\n",
      "   0.38790611]\n",
      " [ 0.90802102 -0.31317088  0.896894   ... -0.22107097 -0.93505161\n",
      "  -0.21484643]\n",
      " ...\n",
      " [ 0.83555601  0.31920993 -0.87696247 ...  0.21014488 -0.4994414\n",
      "  -0.56379548]\n",
      " [ 0.21599659  0.4973405   0.31735712 ...  0.58249034 -0.69921366\n",
      "  -0.25401987]\n",
      " [ 0.46176711  1.113803   -0.74321926 ...  0.39942624 -0.44673374\n",
      "   0.8975912 ]]\n",
      "Bias da camada oculta:\n",
      "[ 0.37988973  0.39257089 -0.6676847  -0.15672302  0.53987266 -0.64244187\n",
      " -0.35118281  0.54760029  0.92112694 -0.73352419  0.62828825  0.81887103\n",
      " -0.61737423  0.72795468 -0.54322223  0.2090337   0.47923908  0.73952004\n",
      "  0.20268566 -0.6499475  -0.10219194 -0.94790439  0.63432109 -0.67296745\n",
      " -0.91453269  0.74527566  0.28223566  0.21906427  0.90917757 -0.56204779\n",
      " -0.08068433 -0.60062867  0.47318478 -0.62316064 -0.51746892  0.04821415\n",
      "  0.41408851]\n",
      "Pesos da camada oculta para saída:\n",
      "[[ 0.89299008  0.0098542  -0.57442135]\n",
      " [-0.90816797  0.6924905   0.85266353]\n",
      " [-1.33142575  0.12022051 -0.05646203]\n",
      " [-0.12974773 -0.74952435 -0.91604361]\n",
      " [-1.19639224  1.47565907 -0.68585621]\n",
      " [ 0.29795991  0.63404135  0.18602487]\n",
      " [-0.16940476  0.30769299  0.42165996]\n",
      " [ 0.24591124 -1.05505414  0.50914791]\n",
      " [ 1.21537161 -0.17041036 -0.01136706]\n",
      " [ 0.19283326  0.37296935 -0.80473677]\n",
      " [ 1.21622821 -1.35838363 -0.37306971]\n",
      " [-0.31421402  0.3387917  -0.07201475]\n",
      " [ 0.27430275  0.42412637  0.07109317]\n",
      " [-1.02852937 -0.32417525 -0.55790175]\n",
      " [-0.76377692 -0.10531115  0.52881691]\n",
      " [-0.24572968 -1.08246641 -0.42610469]\n",
      " [ 0.34518369  0.63445364 -0.21778579]\n",
      " [-0.06501587  0.86411957  0.16570393]\n",
      " [ 0.27783445 -0.42881884 -0.97786874]\n",
      " [ 0.23691528 -0.05059577 -0.47135169]\n",
      " [-0.10627408 -0.55379172 -0.94459503]\n",
      " [ 0.48422557 -0.39846871 -0.58753001]\n",
      " [-0.48589867 -0.67878872 -0.29321012]\n",
      " [ 0.81161825  0.77585754 -0.11725478]\n",
      " [-0.74822138  0.97570926  0.08616352]\n",
      " [-0.53876031 -0.09469789 -1.17894422]\n",
      " [ 0.12962242  0.75526617 -0.08260836]\n",
      " [ 0.02002231  0.65016635 -0.90207255]\n",
      " [ 0.22872322 -0.71194001 -0.5478228 ]\n",
      " [-0.03880649 -0.79584732  0.75453545]\n",
      " [ 0.57598635 -0.76693675 -0.40096455]\n",
      " [ 0.94423087 -0.41369991  0.25079581]\n",
      " [-0.44564881  1.53549525 -0.09955762]\n",
      " [-0.39113873  0.04388321 -0.82612845]\n",
      " [ 0.22728688 -0.88239624 -1.00591807]\n",
      " [ 0.6258369   0.72936935  0.63242086]\n",
      " [-0.06376515  1.17912163 -0.93457928]]\n",
      "Bias da camada de saída:\n",
      "[-0.21519359  0.72559752 -0.34156637]\n"
     ]
    }
   ],
   "source": [
    "print('--- Pesos finais ---')\n",
    "print('Pesos da camada de entrada para oculta:')\n",
    "print(w_entrada_oculta)\n",
    "print('Bias da camada oculta:')\n",
    "print(b_camada_oculta)\n",
    "print('Pesos da camada oculta para saída:')\n",
    "print(w_oculta_saida)\n",
    "print('Bias da camada de saída:')\n",
    "print(b_saida)"
   ],
   "metadata": {
    "collapsed": false,
    "ExecuteTime": {
     "end_time": "2024-07-17T02:28:28.079058Z",
     "start_time": "2024-07-17T02:28:28.074204Z"
    }
   },
   "id": "ceb3f37959c21725",
   "execution_count": 545
  },
  {
   "cell_type": "code",
   "outputs": [
    {
     "name": "stdout",
     "output_type": "stream",
     "text": [
      "Novo Tweet: \"Time inútil estou cansado\"\n",
      "Resultado: [1 0 0] (Negativo)\n"
     ]
    }
   ],
   "source": [
    "nova_frase = [\"Time inútil estou cansado\"]\n",
    "\n",
    "vectorizer = CountVectorizer(vocabulary=vocabulario)\n",
    "\n",
    "nova_entrada = vectorizer.transform(nova_frase).toarray()\n",
    "\n",
    "\n",
    "z_oculta = np.dot(nova_entrada, w_entrada_oculta) + b_camada_oculta\n",
    "a_oculta = relu(z_oculta)\n",
    "z_saida = np.dot(a_oculta, w_oculta_saida) + b_saida\n",
    "a_saida = softmax(z_saida)\n",
    "\n",
    "resultado_bin = np.round(a_saida).astype(int)[0]\n",
    "\n",
    "interpretacao = interpretar_saida(resultado_bin)\n",
    "\n",
    "print(f'Novo Tweet: \"{nova_frase[0]}\"')\n",
    "print(f'Resultado: {resultado_bin} ({interpretacao})')\n"
   ],
   "metadata": {
    "collapsed": false,
    "ExecuteTime": {
     "end_time": "2024-07-17T02:52:43.613730Z",
     "start_time": "2024-07-17T02:52:43.611623Z"
    }
   },
   "id": "73de6bbb13d282fc",
   "execution_count": 561
  },
  {
   "cell_type": "code",
   "outputs": [],
   "source": [],
   "metadata": {
    "collapsed": false
   },
   "id": "7ace9980caa4a22c"
  }
 ],
 "metadata": {
  "kernelspec": {
   "display_name": "Python 3",
   "language": "python",
   "name": "python3"
  },
  "language_info": {
   "codemirror_mode": {
    "name": "ipython",
    "version": 2
   },
   "file_extension": ".py",
   "mimetype": "text/x-python",
   "name": "python",
   "nbconvert_exporter": "python",
   "pygments_lexer": "ipython2",
   "version": "2.7.6"
  }
 },
 "nbformat": 4,
 "nbformat_minor": 5
}
